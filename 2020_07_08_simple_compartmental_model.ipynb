{
 "cells": [
  {
   "cell_type": "code",
   "execution_count": 1,
   "metadata": {},
   "outputs": [],
   "source": [
    "import pandas as pd\n",
    "import numpy as np\n",
    "import matplotlib.pyplot as plt"
   ]
  },
  {
   "cell_type": "markdown",
   "metadata": {},
   "source": [
    "- review of derivates and rates of change. graph example, algebra example\n",
    "- recall simple diffeq\n",
    "- look at diffeq without a closed form soln\n",
    "- re-introduce euler's method\n",
    "    - solve some equations with euler's?\n",
    "- look at a simple SIR model"
   ]
  },
  {
   "cell_type": "markdown",
   "metadata": {},
   "source": [
    "# Simple compartmental model"
   ]
  },
  {
   "cell_type": "markdown",
   "metadata": {},
   "source": [
    "We'll start by coding up a simple SIR model. We'll assume that we have a fixed population (no births or migration) in which no one dies, everyone recovers, and everyone gains permanent immunity after recovering."
   ]
  },
  {
   "cell_type": "markdown",
   "metadata": {},
   "source": [
    "Let's model this as a measles epidemic moving through an entirely susceptible population."
   ]
  },
  {
   "cell_type": "markdown",
   "metadata": {},
   "source": [
    "If the average duration for a bout of measles is 14 days, we can say that every day, the change in R is a function of I:"
   ]
  },
  {
   "cell_type": "markdown",
   "metadata": {},
   "source": [
    "$\\frac{dR}{dt} = \\frac{1}{14} \\cdot I$"
   ]
  },
  {
   "cell_type": "markdown",
   "metadata": {},
   "source": [
    "How many people move from S to I? Well, let's say each person in S, on average, comes into contact with an individual in I with probability p. Given contact, let's say on average that the susceptible becomes sick with probability q. So, we have S*(qpI) individuals moving from S to I. We will set p=.0004 and q=.25, and then define beta=pq=.0001"
   ]
  },
  {
   "cell_type": "markdown",
   "metadata": {},
   "source": [
    "$\\frac{dS}{dt} = -\\beta SI$"
   ]
  },
  {
   "cell_type": "markdown",
   "metadata": {},
   "source": [
    "Finally, the change in I is a result of the influx from I, beta*S*I, and the individuals who recover into R, 1/14*I:"
   ]
  },
  {
   "cell_type": "markdown",
   "metadata": {},
   "source": [
    "$\\frac{dI}{dt} = \\beta SI- \\frac{1}{14}\\cdot I$"
   ]
  },
  {
   "cell_type": "code",
   "execution_count": 129,
   "metadata": {},
   "outputs": [],
   "source": [
    "#initialize population\n",
    "S = 10_000\n",
    "I = 1\n",
    "R = 0\n",
    "\n",
    "#choose beta\n",
    "beta = .0001\n",
    "\n",
    "#choose recovery rate\n",
    "gamma = 1/14"
   ]
  },
  {
   "cell_type": "code",
   "execution_count": 130,
   "metadata": {},
   "outputs": [],
   "source": [
    "def run_SIR(S, I, R, time_start, step_size, time_stop, trace = None):\n",
    "    if trace is None:\n",
    "        trace = pd.DataFrame(data = [[time_start,S,I,R]])\n",
    "    if time_start < time_stop:\n",
    "        #calculate rate of change\n",
    "        dSdt = -beta*S*I\n",
    "        dIdt = beta*S*I - gamma*I\n",
    "        dRdt = gamma*I\n",
    "\n",
    "        #calculate absolute change\n",
    "        delta_S = dSdt*step_size\n",
    "        delta_I = dIdt*step_size\n",
    "        delta_R = dRdt*step_size\n",
    "    \n",
    "        #calculate new states\n",
    "        S, I, R = S + delta_S, I + delta_I, R + delta_R\n",
    "        \n",
    "        #save trace\n",
    "        trace = trace.append([[time_start + step_size, S, I, R]])\n",
    "        \n",
    "        #take next step\n",
    "        trace = run_SIR(S, I, R, time_start + step_size, step_size, time_stop, trace = trace)\n",
    "    trace.rename(columns={0:'t',1:'S',2:'I',3:'R'}, inplace=True)\n",
    "    return trace"
   ]
  },
  {
   "cell_type": "code",
   "execution_count": 138,
   "metadata": {},
   "outputs": [
    {
     "name": "stdout",
     "output_type": "stream",
     "text": [
      "CPU times: user 154 ms, sys: 1.98 ms, total: 156 ms\n",
      "Wall time: 154 ms\n"
     ]
    }
   ],
   "source": [
    "%%time\n",
    "model = run_SIR(S, I, R, time_start = 0, step_size = 1, time_stop = 60)"
   ]
  },
  {
   "cell_type": "code",
   "execution_count": 139,
   "metadata": {},
   "outputs": [
    {
     "data": {
      "image/png": "[encoded data removed]",
      "text/plain": [
       "<Figure size 432x288 with 1 Axes>"
      ]
     },
     "metadata": {
      "needs_background": "light"
     },
     "output_type": "display_data"
    }
   ],
   "source": [
    "plt.plot(model.t,model.S, label = 'S')\n",
    "plt.plot(model.t,model.I, label = 'I')\n",
    "plt.plot(model.t,model.R, label = 'R')\n",
    "\n",
    "plt.ylabel('count of persons')\n",
    "plt.xlabel('days')\n",
    "plt.title('Viz of SIR over time')\n",
    "\n",
    "plt.legend()\n",
    "plt.show()"
   ]
  },
  {
   "cell_type": "code",
   "execution_count": null,
   "metadata": {},
   "outputs": [],
   "source": []
  }
 ],
 "metadata": {
  "kernelspec": {
   "display_name": "Python 3",
   "language": "python",
   "name": "python3"
  },
  "language_info": {
   "codemirror_mode": {
    "name": "ipython",
    "version": 3
   },
   "file_extension": ".py",
   "mimetype": "text/x-python",
   "name": "python",
   "nbconvert_exporter": "python",
   "pygments_lexer": "ipython3",
   "version": "3.6.10"
  }
 },
 "nbformat": 4,
 "nbformat_minor": 4
}
